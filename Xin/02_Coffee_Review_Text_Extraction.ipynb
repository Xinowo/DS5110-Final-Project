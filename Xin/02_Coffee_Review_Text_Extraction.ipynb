{
 "cells": [
  {
   "cell_type": "markdown",
   "metadata": {},
   "source": [
    "This notebook is used to parsing the text data into dataframe."
   ]
  },
  {
   "cell_type": "markdown",
   "metadata": {},
   "source": [
    "# Import dependencies"
   ]
  },
  {
   "cell_type": "code",
   "execution_count": 4,
   "metadata": {},
   "outputs": [],
   "source": [
    "import requests\n",
    "from bs4 import BeautifulSoup\n",
    "\n",
    "import pandas as pd\n",
    "import os\n",
    "import re"
   ]
  },
  {
   "cell_type": "markdown",
   "metadata": {},
   "source": [
    "# Check the total number of available reviews on sitemap"
   ]
  },
  {
   "cell_type": "code",
   "execution_count": 56,
   "metadata": {},
   "outputs": [
    {
     "name": "stdout",
     "output_type": "stream",
     "text": [
      "✅ Found 15 URLs.\n"
     ]
    }
   ],
   "source": [
    "# Step 1: Get all review URLs from the sitemap\n",
    "sitemap_url = \"https://www.coffeereview.com/sitemap_index.xml\"\n",
    "\n",
    "headers = {\n",
    "    \"User-Agent\": \"Mozilla/5.0 (Windows NT 10.0; Win64; x64) AppleWebKit/537.36 (KHTML, like Gecko) Chrome/110.0.0.0 Safari/537.36\"\n",
    "}\n",
    "\n",
    "# Fetch and parse the sitemap XML\n",
    "response = requests.get(sitemap_url, headers=headers)\n",
    "\n",
    "if response.status_code == 200:\n",
    "    soup = BeautifulSoup(response.content, \"xml\")\n",
    "    all_urls = [loc.text for loc in soup.find_all(\"loc\")]\n",
    "    print(f\"✅ Found {len(all_urls)} URLs.\")\n",
    "else:\n",
    "    print(f\"❌ Failed to fetch sitemap. Status code: {response.status_code}\")\n",
    "    exit()"
   ]
  },
  {
   "cell_type": "code",
   "execution_count": 57,
   "metadata": {},
   "outputs": [
    {
     "data": {
      "text/plain": [
       "['https://www.coffeereview.com/review-sitemap.xml',\n",
       " 'https://www.coffeereview.com/review-sitemap2.xml',\n",
       " 'https://www.coffeereview.com/review-sitemap3.xml',\n",
       " 'https://www.coffeereview.com/review-sitemap4.xml',\n",
       " 'https://www.coffeereview.com/review-sitemap5.xml',\n",
       " 'https://www.coffeereview.com/review-sitemap6.xml',\n",
       " 'https://www.coffeereview.com/review-sitemap7.xml',\n",
       " 'https://www.coffeereview.com/review-sitemap8.xml',\n",
       " 'https://www.coffeereview.com/review-sitemap9.xml']"
      ]
     },
     "execution_count": 57,
     "metadata": {},
     "output_type": "execute_result"
    }
   ],
   "source": [
    "review_sitemaps = [url for url in all_urls if \"review-sitemap\" in url]\n",
    "review_sitemaps"
   ]
  },
  {
   "cell_type": "code",
   "execution_count": 58,
   "metadata": {},
   "outputs": [
    {
     "name": "stdout",
     "output_type": "stream",
     "text": [
      "✅ Found 1001 review URLs in sitemap https://www.coffeereview.com/review-sitemap.xml.\n",
      "✅ Found 1000 review URLs in sitemap https://www.coffeereview.com/review-sitemap2.xml.\n",
      "✅ Found 1040 review URLs in sitemap https://www.coffeereview.com/review-sitemap3.xml.\n",
      "✅ Found 1057 review URLs in sitemap https://www.coffeereview.com/review-sitemap4.xml.\n",
      "✅ Found 1056 review URLs in sitemap https://www.coffeereview.com/review-sitemap5.xml.\n",
      "✅ Found 1067 review URLs in sitemap https://www.coffeereview.com/review-sitemap6.xml.\n",
      "✅ Found 1058 review URLs in sitemap https://www.coffeereview.com/review-sitemap7.xml.\n",
      "✅ Found 1045 review URLs in sitemap https://www.coffeereview.com/review-sitemap8.xml.\n",
      "✅ Found 429 review URLs in sitemap https://www.coffeereview.com/review-sitemap9.xml.\n"
     ]
    }
   ],
   "source": [
    "all_review_urls = []\n",
    "\n",
    "for this_sitemap in review_sitemaps:\n",
    "    # Fetch and parse the sitemap XML\n",
    "    response = requests.get(this_sitemap, headers=headers)\n",
    "\n",
    "    if response.status_code == 200:\n",
    "        soup = BeautifulSoup(response.content, \"xml\")\n",
    "        review_urls = [loc.text for loc in soup.find_all(\"loc\")]\n",
    "        print(f\"✅ Found {len(review_urls)} review URLs in sitemap {this_sitemap}.\")\n",
    "        all_review_urls = all_review_urls + review_urls\n",
    "    else:\n",
    "        print(f\"❌ Failed to fetch sitemap. Status code: {response.status_code}\")\n",
    "        exit()"
   ]
  },
  {
   "cell_type": "code",
   "execution_count": 59,
   "metadata": {},
   "outputs": [
    {
     "name": "stdout",
     "output_type": "stream",
     "text": [
      "Found 8752 review URLs in total.\n",
      "Found 8751 unique review URLs in total.\n"
     ]
    }
   ],
   "source": [
    "if \"https://www.coffeereview.com/review/\" in all_review_urls:\n",
    "    all_review_urls.remove(\"https://www.coffeereview.com/review/\")\n",
    "\n",
    "print(f\"Found {len(all_review_urls)} review URLs in total.\")\n",
    "print(f\"Found {len(set(all_review_urls))} unique review URLs in total.\")"
   ]
  },
  {
   "cell_type": "markdown",
   "metadata": {},
   "source": [
    "## Found duplicated review urls"
   ]
  },
  {
   "cell_type": "code",
   "execution_count": 60,
   "metadata": {},
   "outputs": [
    {
     "name": "stdout",
     "output_type": "stream",
     "text": [
      "https://www.coffeereview.com/wp-content/uploads/2014/11/29_375x375.jpg\n"
     ]
    }
   ],
   "source": [
    "def first_duplicate(lst):\n",
    "    seen = set()\n",
    "    for item in lst:\n",
    "        if item in seen:\n",
    "            return item\n",
    "        seen.add(item)\n",
    "    return None\n",
    "\n",
    "print(first_duplicate(all_review_urls))"
   ]
  },
  {
   "cell_type": "markdown",
   "metadata": {},
   "source": [
    "## Check the scrapped reviews"
   ]
  },
  {
   "cell_type": "code",
   "execution_count": 61,
   "metadata": {},
   "outputs": [
    {
     "data": {
      "text/plain": [
       "['https___www_coffeereview_com_review_100-colombian_.txt',\n",
       " 'https___www_coffeereview_com_review_moka-java_.txt',\n",
       " 'https___www_coffeereview_com_review_java_.txt',\n",
       " 'https___www_coffeereview_com_review_sumatra-gayo-mountain_.txt',\n",
       " 'https___www_coffeereview_com_review_folgers-french-roast_.txt']"
      ]
     },
     "execution_count": 61,
     "metadata": {},
     "output_type": "execute_result"
    }
   ],
   "source": [
    "reviews_from_sitemap = [re.sub(r\"[^\\w\\-]\", \"_\", url) + \".txt\" for url in all_review_urls]\n",
    "reviews_from_sitemap[:5]"
   ]
  },
  {
   "cell_type": "code",
   "execution_count": 62,
   "metadata": {},
   "outputs": [
    {
     "name": "stdout",
     "output_type": "stream",
     "text": [
      "8747\n"
     ]
    }
   ],
   "source": [
    "folder_path = \"./coffee_reviews_text/\"\n",
    "scrapped_texts = os.listdir(folder_path)\n",
    "print(len(scrapped_texts))"
   ]
  },
  {
   "cell_type": "code",
   "execution_count": 63,
   "metadata": {},
   "outputs": [
    {
     "data": {
      "text/plain": [
       "{'https___www_coffeereview_com_review_100-arabica-nespresso-compatible-capsules_.txt',\n",
       " 'https___www_coffeereview_com_review_colombia-manos-juntas-anaerobic-natural_.txt',\n",
       " 'https___www_coffeereview_com_review_colombia-sebastian-ramirez-washed-pink-bourbon-2_.txt',\n",
       " 'https___www_coffeereview_com_wp-content_uploads_2019_02_6_375x375_jpg.txt'}"
      ]
     },
     "execution_count": 63,
     "metadata": {},
     "output_type": "execute_result"
    }
   ],
   "source": [
    "# Check differences between reviews_from_sitemap and scrapped_texts\n",
    "set_1 = set(reviews_from_sitemap)\n",
    "set_2 = set(scrapped_texts)\n",
    "\n",
    "set_1 ^ set_2"
   ]
  },
  {
   "cell_type": "code",
   "execution_count": 64,
   "metadata": {},
   "outputs": [
    {
     "name": "stdout",
     "output_type": "stream",
     "text": [
      "We will use 8387 unique reviews for analysis.\n"
     ]
    }
   ],
   "source": [
    "# Remove 360 wp-content files\n",
    "scrapped_reviews = [filename for filename in scrapped_texts if \"wp-content\" not in filename]\n",
    "print(f\"We will use {len(scrapped_reviews)} unique reviews for analysis.\")"
   ]
  },
  {
   "cell_type": "markdown",
   "metadata": {},
   "source": [
    "This number should align with the number of reviews (until 03/03/2025) on the website https://www.coffeereview.com/review/:\n",
    "$20 \\times 414 + 4 = 8284$. However, it looks like we scrapped more reviews ($8387 > 8284$) than those shown on the website."
   ]
  },
  {
   "cell_type": "markdown",
   "metadata": {},
   "source": [
    "## No need to run again - Read all text files and save as csv with raw texts which need to be parsed further\n",
    "Done by Xin on 03/03/2025"
   ]
  },
  {
   "cell_type": "code",
   "execution_count": 25,
   "metadata": {},
   "outputs": [],
   "source": [
    "# Define regex patterns\n",
    "url_pattern = re.compile(r'URL:\\s*(https?://\\S+)')\n",
    "all_text_pattern = re.compile(r'“行銷攻略” 促銷活動\\s*(.*?)\\s*Explore Similar Coffees', re.DOTALL)\n",
    "\n",
    "def extract_info(text):\n",
    "    \"\"\"Extract URL and relevant text from the review file\"\"\"\n",
    "    url = url_pattern.search(text)\n",
    "    all_text = all_text_pattern.search(text)\n",
    "    \n",
    "    return {\n",
    "        \"URL\": url.group(1) if url else None,\n",
    "        \"all_text\": all_text.group(1).strip() if all_text else None,\n",
    "    }\n",
    "\n",
    "data = []\n",
    "for file_name in scrapped_reviews:\n",
    "    with open(os.path.join(folder_path, file_name), \"r\", encoding=\"utf-8\") as file:\n",
    "        text = file.read()\n",
    "        extracted_info = extract_info(text)\n",
    "        data.append(extracted_info)\n",
    "\n",
    "# Store data in DataFrame\n",
    "df = pd.DataFrame(data)"
   ]
  },
  {
   "cell_type": "code",
   "execution_count": null,
   "metadata": {},
   "outputs": [
    {
     "name": "stdout",
     "output_type": "stream",
     "text": [
      "https://www.coffeereview.com/review/__trashed-5/\n",
      "94\n",
      "JBC Coffee Roasters\n",
      "Kagunyu Kenya\n",
      "Roaster Location:\n",
      "Madison, Wisconsin\n",
      "Coffee Origin:\n",
      "Nyeri County, Kenya\n",
      "Roast Level:\n",
      "Medium-Light\n",
      "Agtron:\n",
      "60/78\n",
      "Est. Price:\n",
      "$22.00/12 ounces\n",
      "Review Date:\n",
      "February 2024\n",
      "Aroma:\n",
      "9\n",
      "Acidity/Structure:\n",
      "9\n",
      "Body:\n",
      "9\n",
      "Flavor:\n",
      "9\n",
      "Aftertaste:\n",
      "8\n",
      "Blind Assessment\n",
      "Complex, multi-layered, deep-toned. Red currant, cocoa nib, tangerine, fresh-cut oak, marjoram in aroma and cup. Bright, juicy structure with phosphoric (cola-like) acidity; crisp, syrupy mouthfeel. Resonant finish centered around notes of red currant and cocoa nib.\n",
      "Notes\n",
      "Produced by smallholding farmers, from trees of the SL28 and SL34 varieties of Arabica, and processed by the traditional washed method (fruit skin and pulp removed before drying) at the Kagunyu Washing Station. JBC Coffee Roasters’ vision is simple: “Let the coffee lead the way” through sourcing and roasting the best and most unique coffees available and rewarding the farmers who grow those coffees with substantial premiums. Visit\n",
      "www.jbccoffeeroasters.com\n",
      "or call 608-256-5282 for more information\n",
      "Bottom Line\n",
      "A classic Kenya cup with its bright currant, cocoa nib and citrus impulses, and its sparkling acidity — and recognizably so, both aromatically and in the flavor profile.\n"
     ]
    }
   ],
   "source": [
    "# check_index = 8386\n",
    "# print(df[\"URL\"][check_index])\n",
    "# print(df[\"all_text\"][check_index])"
   ]
  },
  {
   "cell_type": "code",
   "execution_count": 33,
   "metadata": {},
   "outputs": [],
   "source": [
    "df.to_csv(\"coffee_review_raw_texts.csv\", index = False)"
   ]
  },
  {
   "cell_type": "markdown",
   "metadata": {},
   "source": [
    "# Start here! Raw Text Parsing"
   ]
  },
  {
   "cell_type": "code",
   "execution_count": 5,
   "metadata": {},
   "outputs": [
    {
     "data": {
      "text/html": [
       "<div>\n",
       "<style scoped>\n",
       "    .dataframe tbody tr th:only-of-type {\n",
       "        vertical-align: middle;\n",
       "    }\n",
       "\n",
       "    .dataframe tbody tr th {\n",
       "        vertical-align: top;\n",
       "    }\n",
       "\n",
       "    .dataframe thead th {\n",
       "        text-align: right;\n",
       "    }\n",
       "</style>\n",
       "<table border=\"1\" class=\"dataframe\">\n",
       "  <thead>\n",
       "    <tr style=\"text-align: right;\">\n",
       "      <th></th>\n",
       "      <th>URL</th>\n",
       "      <th>all_text</th>\n",
       "    </tr>\n",
       "  </thead>\n",
       "  <tbody>\n",
       "    <tr>\n",
       "      <th>0</th>\n",
       "      <td>https://www.coffeereview.com/review/100-arabic...</td>\n",
       "      <td>89\\nCaffe Bomrad\\n100% Arabica 100% Italiano\\n...</td>\n",
       "    </tr>\n",
       "    <tr>\n",
       "      <th>1</th>\n",
       "      <td>https://www.coffeereview.com/review/100-arabic...</td>\n",
       "      <td>87\\nLucaff?\\n100% Arabica, Black Label (ESE po...</td>\n",
       "    </tr>\n",
       "    <tr>\n",
       "      <th>2</th>\n",
       "      <td>https://www.coffeereview.com/review/100-arabic...</td>\n",
       "      <td>87\\nCaribeans\\n100% Arabica Coffee from Puerto...</td>\n",
       "    </tr>\n",
       "    <tr>\n",
       "      <th>3</th>\n",
       "      <td>https://www.coffeereview.com/review/100-arabic...</td>\n",
       "      <td>88\\nWaka Coffee\\n100% Arabica Freeze-Dried Col...</td>\n",
       "    </tr>\n",
       "    <tr>\n",
       "      <th>4</th>\n",
       "      <td>https://www.coffeereview.com/review/100-arabic...</td>\n",
       "      <td>72\\nYuban\\n100% Arabica Instant Coffee\\nRoaste...</td>\n",
       "    </tr>\n",
       "    <tr>\n",
       "      <th>...</th>\n",
       "      <td>...</td>\n",
       "      <td>...</td>\n",
       "    </tr>\n",
       "    <tr>\n",
       "      <th>8382</th>\n",
       "      <td>https://www.coffeereview.com/review/zimbabwean...</td>\n",
       "      <td>88\\nLeopard Forest Coffee\\nZimbabwean Peaberry...</td>\n",
       "    </tr>\n",
       "    <tr>\n",
       "      <th>8383</th>\n",
       "      <td>https://www.coffeereview.com/review/zimbabwe/</td>\n",
       "      <td>83\\nThe Sensuous Bean\\nZimbabwe\\nRoaster Locat...</td>\n",
       "    </tr>\n",
       "    <tr>\n",
       "      <th>8384</th>\n",
       "      <td>https://www.coffeereview.com/review/zombie-des...</td>\n",
       "      <td>87\\nCafe Kreyol\\nZombie Desert 100% Organic Ha...</td>\n",
       "    </tr>\n",
       "    <tr>\n",
       "      <th>8385</th>\n",
       "      <td>https://www.coffeereview.com/review/zoom-espre...</td>\n",
       "      <td>93\\nZuco Coffee Roasters\\nZoom Espresso\\nRoast...</td>\n",
       "    </tr>\n",
       "    <tr>\n",
       "      <th>8386</th>\n",
       "      <td>https://www.coffeereview.com/review/__trashed-5/</td>\n",
       "      <td>94\\nJBC Coffee Roasters\\nKagunyu Kenya\\nRoaste...</td>\n",
       "    </tr>\n",
       "  </tbody>\n",
       "</table>\n",
       "<p>8387 rows × 2 columns</p>\n",
       "</div>"
      ],
      "text/plain": [
       "                                                    URL  \\\n",
       "0     https://www.coffeereview.com/review/100-arabic...   \n",
       "1     https://www.coffeereview.com/review/100-arabic...   \n",
       "2     https://www.coffeereview.com/review/100-arabic...   \n",
       "3     https://www.coffeereview.com/review/100-arabic...   \n",
       "4     https://www.coffeereview.com/review/100-arabic...   \n",
       "...                                                 ...   \n",
       "8382  https://www.coffeereview.com/review/zimbabwean...   \n",
       "8383      https://www.coffeereview.com/review/zimbabwe/   \n",
       "8384  https://www.coffeereview.com/review/zombie-des...   \n",
       "8385  https://www.coffeereview.com/review/zoom-espre...   \n",
       "8386   https://www.coffeereview.com/review/__trashed-5/   \n",
       "\n",
       "                                               all_text  \n",
       "0     89\\nCaffe Bomrad\\n100% Arabica 100% Italiano\\n...  \n",
       "1     87\\nLucaff?\\n100% Arabica, Black Label (ESE po...  \n",
       "2     87\\nCaribeans\\n100% Arabica Coffee from Puerto...  \n",
       "3     88\\nWaka Coffee\\n100% Arabica Freeze-Dried Col...  \n",
       "4     72\\nYuban\\n100% Arabica Instant Coffee\\nRoaste...  \n",
       "...                                                 ...  \n",
       "8382  88\\nLeopard Forest Coffee\\nZimbabwean Peaberry...  \n",
       "8383  83\\nThe Sensuous Bean\\nZimbabwe\\nRoaster Locat...  \n",
       "8384  87\\nCafe Kreyol\\nZombie Desert 100% Organic Ha...  \n",
       "8385  93\\nZuco Coffee Roasters\\nZoom Espresso\\nRoast...  \n",
       "8386  94\\nJBC Coffee Roasters\\nKagunyu Kenya\\nRoaste...  \n",
       "\n",
       "[8387 rows x 2 columns]"
      ]
     },
     "execution_count": 5,
     "metadata": {},
     "output_type": "execute_result"
    }
   ],
   "source": [
    "data = pd.read_csv(\"coffee_review_raw_texts.csv\")\n",
    "data"
   ]
  },
  {
   "cell_type": "code",
   "execution_count": 37,
   "metadata": {},
   "outputs": [
    {
     "name": "stdout",
     "output_type": "stream",
     "text": [
      "90\n",
      "Coffee by Design\n",
      "1994 Blend\n",
      "Roaster Location:\n",
      "Portland, Maine\n",
      "Coffee Origin:\n",
      "Ethiopia\n",
      "Roast Level:\n",
      "Medium-Light\n",
      "Agtron:\n",
      "57/74\n",
      "Est. Price:\n",
      "$20.50/16 ounces\n",
      "Review Date:\n",
      "September 2023\n",
      "Aroma:\n",
      "8\n",
      "Acidity/Structure:\n",
      "8\n",
      "Body:\n",
      "8\n",
      "Flavor:\n",
      "8\n",
      "Aftertaste:\n",
      "8\n",
      "Blind Assessment\n",
      "Richly fruit-toned, wood-framed. Mulberry, cedar, Meyer lemon zest, cane sugar, lily in aroma and cup. Pert acidity; crisp, satiny mouthfeel. Finish consolidates to cedar and lily.\n",
      "Notes\n",
      "A blend of coffees from Ethiopia, both washed and natural-processed. Founded in 1994, Coffee By Design is a specialty coffee roaster in Portland, Maine that also operates three coffee shops in Portland. For more information, visit\n",
      "www.coffeebydesign.com.\n",
      "Bottom Line\n",
      "Pleasing aromatic cedar notes frame this fruit-driven blend of coffees from Ethiopia: berry-forward and gently spice-toned.\n"
     ]
    }
   ],
   "source": [
    "# Observation on 1 text\n",
    "# 76 - Bottom Line; 3333 - Who Should Drink It\n",
    "check_index = 76\n",
    "print(data[\"all_text\"][check_index])\n",
    "# data[\"all_text\"][check_index]"
   ]
  },
  {
   "cell_type": "markdown",
   "metadata": {},
   "source": [
    "## Define extraction patterns\n",
    "\n",
    "Pattern concerns:\n",
    "\n",
    "1. Some reviews do not have \"Bottom Line\" or \"Who Should Drink It\"\n",
    "2. Some do not have \"Aftertaste\"\n",
    "\n"
   ]
  },
  {
   "cell_type": "code",
   "execution_count": 69,
   "metadata": {},
   "outputs": [
    {
     "name": "stdout",
     "output_type": "stream",
     "text": [
      "There are 104 reviews which do not contain Roaster Location\n",
      "There are 572 reviews which do not contain Coffee Origin\n",
      "There are 103 reviews which do not contain Roast Level\n",
      "There are 103 reviews which do not contain Agtron\n",
      "There are 2015 reviews which do not contain Est. Price\n",
      "There are 0 reviews which do not contain Review Date\n",
      "There are 164 reviews which do not contain Aroma\n",
      "There are 1375 reviews which do not contain Acidity\n",
      "There are 114 reviews which do not contain Body\n",
      "There are 115 reviews which do not contain Flavor\n",
      "There are 973 reviews which do not contain Aftertaste\n",
      "There are 7242 reviews which do not contain With Milk\n",
      "There are 0 reviews which do not contain Blind Assessment\n",
      "There are 0 reviews which do not contain Notes\n",
      "There are 4360 reviews which do not contain Who Should Drink It\n",
      "There are 4181 reviews which do not contain Bottom Line\n"
     ]
    }
   ],
   "source": [
    "def check_variable(variable):\n",
    "    print(f\"There are {sum(~data['all_text'].str.contains(variable))} reviews which do not contain {variable}\")\n",
    "\n",
    "variables = [\"Roaster Location\", \"Coffee Origin\", \"Roast Level\", \"Agtron\", \n",
    "             \"Est. Price\", \"Review Date\", \"Aroma\", \"Acidity\", \"Body\", \n",
    "             \"Flavor\", \"Aftertaste\", \"With Milk\",\n",
    "             \"Blind Assessment\", \"Notes\", \"Who Should Drink It\", \"Bottom Line\"]\n",
    "\n",
    "for variable in variables:\n",
    "    check_variable(variable)"
   ]
  },
  {
   "cell_type": "markdown",
   "metadata": {},
   "source": [
    "## Start parsing"
   ]
  },
  {
   "cell_type": "code",
   "execution_count": 104,
   "metadata": {},
   "outputs": [],
   "source": [
    "# Define regex patterns\n",
    "rating_pattern = re.compile(r'^(\\d{2,3})\\n')\n",
    "roaster_pattern = re.compile(r'^(\\d{2,3})\\n(.*?)\\n', re.MULTILINE)\n",
    "coffee_name_pattern = re.compile(r'^(\\d{2,3})\\n.*?\\n(.*?)\\n', re.MULTILINE)\n",
    "location_pattern = re.compile(r'Roaster Location:\\s*(.*?)\\n')\n",
    "origin_pattern = re.compile(r'Coffee Origin:\\s*(.*?)\\n')\n",
    "roast_pattern = re.compile(r'Roast Level:\\s*(.*?)\\n')\n",
    "agtron_pattern = re.compile(r'Agtron:\\s*(.*?)\\n')\n",
    "price_pattern = re.compile(r'Est. Price:\\s*(.*?)\\n')\n",
    "date_pattern = re.compile(r'Review Date:\\s*(.*?)\\n')\n",
    "score_pattern = re.compile(r'(Aroma|Acidity|Acidity/Structure|Body|Flavor|Aftertaste|With Milk|Flavor in milk):\\s*(\\d+)')\n",
    "section_pattern = re.compile(\n",
    "    r\"(Blind Assessment|Notes|Who Should Drink It|Bottom Line)\\n(.*?)(?=(?:Blind Assessment|Notes|Who Should Drink It|Bottom Line|$))\",\n",
    "    re.DOTALL\n",
    ")\n",
    "\n",
    "def extract_info(text):\n",
    "    \"\"\"Extract structured data from the review text\"\"\"\n",
    "    rating = rating_pattern.search(text)\n",
    "    roaster = roaster_pattern.search(text)\n",
    "    coffee_name = coffee_name_pattern.search(text)\n",
    "    location = location_pattern.search(text)\n",
    "    origin = origin_pattern.search(text)\n",
    "    roast = roast_pattern.search(text)\n",
    "    agtron = agtron_pattern.search(text)\n",
    "    price = price_pattern.search(text)\n",
    "    date = date_pattern.search(text)\n",
    "    scores = {match[0]: int(match[1]) for match in score_pattern.findall(text)}\n",
    "\n",
    "     # Extract sections dynamically\n",
    "    section_matches = section_pattern.findall(text)\n",
    "    section_data = {match[0]: match[1].strip() for match in section_matches}\n",
    "\n",
    "    \n",
    "    return {\n",
    "        \"Rating\": int(rating.group(1)) if rating else None,\n",
    "        \"Roaster\": roaster.group(2).strip() if roaster else None,\n",
    "        \"Coffee Name\": coffee_name.group(2).strip() if coffee_name else None,\n",
    "        \"Roaster Location\": location.group(1) if location else None,\n",
    "        \"Coffee Origin\": origin.group(1) if origin else None,\n",
    "        \"Roast Level\": roast.group(1) if roast else None,\n",
    "        \"Agtron\": agtron.group(1) if agtron else None,\n",
    "        \"Est. Price\": price.group(1) if price else None,\n",
    "        \"Review Date\": date.group(1) if date else None,\n",
    "        \"Aroma\": scores.get(\"Aroma\"),\n",
    "        \"Acidity\": scores.get(\"Acidity\"),\n",
    "        \"Acidity/Structure\": scores.get(\"Acidity/Structure\"),\n",
    "        \"Body\": scores.get(\"Body\"),\n",
    "        \"Flavor\": scores.get(\"Flavor\"),\n",
    "        \"Aftertaste\": scores.get(\"Aftertaste\"),\n",
    "        \"With Milk\": scores.get(\"With Milk\"),\n",
    "        \"Flavor in milk\": scores.get(\"Flavor in milk\"),\n",
    "        \"Blind Assessment\": section_data.get(\"Blind Assessment\"),\n",
    "        \"Notes\": section_data.get(\"Notes\"),\n",
    "        \"Who Should Drink It\": section_data.get(\"Who Should Drink It\"),\n",
    "        \"Bottom Line\": section_data.get(\"Bottom Line\"),\n",
    "    }"
   ]
  },
  {
   "cell_type": "markdown",
   "metadata": {},
   "source": [
    "## Try the parsing function on 1 text"
   ]
  },
  {
   "cell_type": "code",
   "execution_count": 105,
   "metadata": {},
   "outputs": [
    {
     "data": {
      "text/plain": [
       "{'Rating': 90,\n",
       " 'Roaster': 'Coffee by Design',\n",
       " 'Coffee Name': '1994 Blend',\n",
       " 'Roaster Location': 'Portland, Maine',\n",
       " 'Coffee Origin': 'Ethiopia',\n",
       " 'Roast Level': 'Medium-Light',\n",
       " 'Agtron': '57/74',\n",
       " 'Est. Price': '$20.50/16 ounces',\n",
       " 'Review Date': 'September 2023',\n",
       " 'Aroma': 8,\n",
       " 'Acidity': None,\n",
       " 'Acidity/Structure': 8,\n",
       " 'Body': 8,\n",
       " 'Flavor': 8,\n",
       " 'Aftertaste': 8,\n",
       " 'With Milk': None,\n",
       " 'Flavor in milk': None,\n",
       " 'Blind Assessment': 'Richly fruit-toned, wood-framed. Mulberry, cedar, Meyer lemon zest, cane sugar, lily in aroma and cup. Pert acidity; crisp, satiny mouthfeel. Finish consolidates to cedar and lily.',\n",
       " 'Notes': 'A blend of coffees from Ethiopia, both washed and natural-processed. Founded in 1994, Coffee By Design is a specialty coffee roaster in Portland, Maine that also operates three coffee shops in Portland. For more information, visit\\nwww.coffeebydesign.com.',\n",
       " 'Who Should Drink It': None,\n",
       " 'Bottom Line': 'Pleasing aromatic cedar notes frame this fruit-driven blend of coffees from Ethiopia: berry-forward and gently spice-toned.'}"
      ]
     },
     "execution_count": 105,
     "metadata": {},
     "output_type": "execute_result"
    }
   ],
   "source": [
    "# Try to parse 1 text\n",
    "check_index = 76\n",
    "text = data[\"all_text\"][check_index]\n",
    "extract_info(text)"
   ]
  },
  {
   "cell_type": "markdown",
   "metadata": {},
   "source": [
    "## Parsing all text"
   ]
  },
  {
   "cell_type": "code",
   "execution_count": 141,
   "metadata": {},
   "outputs": [],
   "source": [
    "# Process all text from DataFrame\n",
    "data[\"parsed_data\"] = data[\"all_text\"].apply(extract_info)\n",
    "\n",
    "# Expand dictionary columns into separate DataFrame columns\n",
    "parsed_df = pd.DataFrame(data[\"parsed_data\"].tolist())\n",
    "\n",
    "# Combine parsed data with original DataFrame (keeping URL as identifier)\n",
    "result_df = pd.concat([data[[\"URL\", \"all_text\"]], parsed_df], axis=1)"
   ]
  },
  {
   "cell_type": "code",
   "execution_count": 142,
   "metadata": {},
   "outputs": [
    {
     "data": {
      "text/plain": [
       "Index(['URL', 'all_text', 'Rating', 'Roaster', 'Coffee Name',\n",
       "       'Roaster Location', 'Coffee Origin', 'Roast Level', 'Agtron',\n",
       "       'Est. Price', 'Review Date', 'Aroma', 'Acidity', 'Acidity/Structure',\n",
       "       'Body', 'Flavor', 'Aftertaste', 'With Milk', 'Flavor in milk',\n",
       "       'Blind Assessment', 'Notes', 'Who Should Drink It', 'Bottom Line'],\n",
       "      dtype='object')"
      ]
     },
     "execution_count": 142,
     "metadata": {},
     "output_type": "execute_result"
    }
   ],
   "source": [
    "result_df.columns"
   ]
  },
  {
   "cell_type": "markdown",
   "metadata": {},
   "source": [
    "# Check missing values\n",
    "This result should align with the string search result before parsing."
   ]
  },
  {
   "cell_type": "code",
   "execution_count": 143,
   "metadata": {},
   "outputs": [
    {
     "name": "stdout",
     "output_type": "stream",
     "text": [
      "There are 104 reviews which do not contain Roaster Location\n",
      "There are 572 reviews which do not contain Coffee Origin\n",
      "There are 103 reviews which do not contain Roast Level\n",
      "There are 103 reviews which do not contain Agtron\n",
      "There are 2015 reviews which do not contain Est. Price\n",
      "There are 0 reviews which do not contain Review Date\n",
      "There are 164 reviews which do not contain Aroma\n",
      "There are 1375 reviews which do not contain Acidity\n",
      "There are 114 reviews which do not contain Body\n",
      "There are 115 reviews which do not contain Flavor\n",
      "There are 973 reviews which do not contain Aftertaste\n",
      "There are 7242 reviews which do not contain With Milk\n",
      "There are 0 reviews which do not contain Blind Assessment\n",
      "There are 0 reviews which do not contain Notes\n",
      "There are 4360 reviews which do not contain Who Should Drink It\n",
      "There are 4181 reviews which do not contain Bottom Line\n"
     ]
    }
   ],
   "source": [
    "for variable in variables:\n",
    "    check_variable(variable)"
   ]
  },
  {
   "cell_type": "code",
   "execution_count": 144,
   "metadata": {},
   "outputs": [
    {
     "data": {
      "text/plain": [
       "URL                       0\n",
       "all_text                  0\n",
       "Rating                    5\n",
       "Roaster                   5\n",
       "Coffee Name               5\n",
       "Roaster Location        104\n",
       "Coffee Origin           572\n",
       "Roast Level             103\n",
       "Agtron                  103\n",
       "Est. Price             2015\n",
       "Review Date               0\n",
       "Aroma                   167\n",
       "Acidity                4679\n",
       "Acidity/Structure      5117\n",
       "Body                    116\n",
       "Flavor                  120\n",
       "Aftertaste              974\n",
       "With Milk              7250\n",
       "Flavor in milk         8379\n",
       "Blind Assessment          0\n",
       "Notes                     0\n",
       "Who Should Drink It    4360\n",
       "Bottom Line            4181\n",
       "dtype: int64"
      ]
     },
     "execution_count": 144,
     "metadata": {},
     "output_type": "execute_result"
    }
   ],
   "source": [
    "result_df.isnull().sum()"
   ]
  },
  {
   "cell_type": "markdown",
   "metadata": {},
   "source": [
    "Some numbers of missing values does not align with those in the raw text. Check why:\n",
    "\n",
    "Aroma, Body, Flavor, Aftertaste, With Milk, \n",
    "(Acidity, Acidity/Structure)"
   ]
  },
  {
   "cell_type": "code",
   "execution_count": 145,
   "metadata": {},
   "outputs": [],
   "source": [
    "def get_missing_urls(which_variable, df = result_df):\n",
    "    \"\"\"This function is used to print out all the urls \n",
    "    where 'which_variable' exists in the raw text but have no values in the corresponding column.\"\"\"\n",
    "    parse_missing = df[df[which_variable].isnull()]\n",
    "    raw_not_missing = parse_missing[parse_missing[\"all_text\"].str.contains(which_variable)][\"URL\"]\n",
    "    for url in raw_not_missing:\n",
    "        print(url)"
   ]
  },
  {
   "cell_type": "markdown",
   "metadata": {},
   "source": [
    "## Check Aroma\n",
    "Suppose to miss 164 scores but missed 167 scores. After checking, 3 reviews are actually missing Aroma scores due to some reason. So parsing for Aroma is correct!"
   ]
  },
  {
   "cell_type": "code",
   "execution_count": 111,
   "metadata": {},
   "outputs": [
    {
     "name": "stdout",
     "output_type": "stream",
     "text": [
      "https://www.coffeereview.com/review/el-salvador-2/\n",
      "https://www.coffeereview.com/review/natural-moka-green/\n",
      "https://www.coffeereview.com/review/wilton-benitez-colombia-variety-p-01/\n"
     ]
    }
   ],
   "source": [
    "get_missing_urls(\"Aroma\")"
   ]
  },
  {
   "cell_type": "markdown",
   "metadata": {},
   "source": [
    "## Check Body\n",
    "Suppose to miss 114 scores but missed 116 scores. After checking 2 reviews are actually missing Body scores due to some reason. So parsing for Body is correct!"
   ]
  },
  {
   "cell_type": "code",
   "execution_count": 113,
   "metadata": {},
   "outputs": [
    {
     "name": "stdout",
     "output_type": "stream",
     "text": [
      "https://www.coffeereview.com/review/el-salvador-2/\n",
      "https://www.coffeereview.com/review/natural-moka-green/\n"
     ]
    }
   ],
   "source": [
    "get_missing_urls(\"Body\")"
   ]
  },
  {
   "cell_type": "markdown",
   "metadata": {},
   "source": [
    "## Check Flavor\n",
    "Suppose to miss 115 scores but missed 120 scores. After checking 5 reviews are actually missing Flavor scores due to some reason. So parsing for Flavor is correct!"
   ]
  },
  {
   "cell_type": "code",
   "execution_count": 114,
   "metadata": {},
   "outputs": [
    {
     "name": "stdout",
     "output_type": "stream",
     "text": [
      "https://www.coffeereview.com/review/el-salvador-2/\n",
      "https://www.coffeereview.com/review/natural-moka-green/\n",
      "https://www.coffeereview.com/review/twisted/\n",
      "https://www.coffeereview.com/review/wilton-benitez-colombia-geisha-p-06/\n",
      "https://www.coffeereview.com/review/wilton-benitez-colombia-orange-bourbon-p-17/\n"
     ]
    }
   ],
   "source": [
    "get_missing_urls(\"Flavor\")"
   ]
  },
  {
   "cell_type": "markdown",
   "metadata": {},
   "source": [
    "## Check Aftertaste\n",
    "Suppose to miss 973 scores but missed 974 scores. After checking, 1 review is actually missing Afterstate score due to some reason. So parsing for Aftertaste is correct!"
   ]
  },
  {
   "cell_type": "code",
   "execution_count": 115,
   "metadata": {},
   "outputs": [
    {
     "name": "stdout",
     "output_type": "stream",
     "text": [
      "https://www.coffeereview.com/review/papua-new-guinea-purosa/\n"
     ]
    }
   ],
   "source": [
    "get_missing_urls(\"Aftertaste\")"
   ]
  },
  {
   "cell_type": "markdown",
   "metadata": {},
   "source": [
    "## Check With Milk\n",
    "Suppose to miss 7242 scores but missed 7250 scores. After checking, 8 review actually have With Milk scores but the pattern is different whick looks like:\n",
    "\n",
    "With Milk:\n",
    "Flavor in milk: 5\n",
    "\n",
    "Therefore, I change add 1 parsing pattern for \"Flavor in milk\"."
   ]
  },
  {
   "cell_type": "code",
   "execution_count": 116,
   "metadata": {},
   "outputs": [
    {
     "name": "stdout",
     "output_type": "stream",
     "text": [
      "https://www.coffeereview.com/review/espresso-blend/\n",
      "https://www.coffeereview.com/review/espresso-dolce/\n",
      "https://www.coffeereview.com/review/illy-espresso/\n",
      "https://www.coffeereview.com/review/major-dickasons-blend-2/\n",
      "https://www.coffeereview.com/review/napoli-blend/\n",
      "https://www.coffeereview.com/review/perugia-blend-2/\n",
      "https://www.coffeereview.com/review/perugia-blend/\n",
      "https://www.coffeereview.com/review/qualita-oro/\n"
     ]
    }
   ],
   "source": [
    "get_missing_urls(\"With Milk\")"
   ]
  },
  {
   "cell_type": "code",
   "execution_count": 117,
   "metadata": {},
   "outputs": [
    {
     "name": "stdout",
     "output_type": "stream",
     "text": [
      "77\n",
      "Bucks County Coffee\n",
      "Espresso Blend\n",
      "Roaster Location:\n",
      "Langhorne, Pennsylvania\n",
      "Roast Level:\n",
      "Dark\n",
      "Agtron:\n",
      "36/38\n",
      "Review Date:\n",
      "October 1997\n",
      "Aroma:\n",
      "6\n",
      "Body:\n",
      "5\n",
      "Flavor:\n",
      "4\n",
      "With Milk:\n",
      "Flavor in milk: 5\n",
      "Blind Assessment\n",
      "A carbony bite suggests this blend may have been roasted too quickly. Otherwise a very agreeable, rather straightforward Espresso, with solid body and a satisfying balance of sweet and pungent tones. The profile fades rather quickly in the finish, perhaps owing to a rushed roast that burned off aromatics.\n",
      "Notes\n",
      "A very agreeable, rather straightforward espresso, with solid body and a satisfying balance of sweet and pungent tones. Bucks County Coffee is a specialty roaster and retail coffee chain based in Pennsylvania.\n",
      "Who Should Drink It\n",
      "Those who sugar their cup or who like a subdued twist of carbon in an otherwise classic demitasse.\n"
     ]
    }
   ],
   "source": [
    "print(result_df[result_df[\"URL\"] == \"https://www.coffeereview.com/review/espresso-blend/\"][\"all_text\"][2417])"
   ]
  },
  {
   "cell_type": "markdown",
   "metadata": {},
   "source": [
    "## Check Acidity\n",
    "Suppose to miss 1375 scores but missed 1409 scores in total after combining 'Acidity' and 'Acidity/Structure' together.\n",
    "\n",
    "Some coffee reviews contains Acidity scores, but others contains Acidity/Structure scores.\n",
    "\n",
    "25 reviews are actually missing 'Acidity' scores OR 'Acidity/Structure' scores.\n",
    "\n",
    "9 reviews describe Acidity in words:\n",
    "| URL | Acidity |\n",
    "|:----------|:----------:|\n",
    "| https://www.coffeereview.com/review/aged-sumatra-2/ | Very Low |\n",
    "| https://www.coffeereview.com/review/blue-de-brasil/ | Low |\n",
    "| https://www.coffeereview.com/review/classique-high-roasted/ | Low |\n",
    "| https://www.coffeereview.com/review/guatemala-antigua-with-coffee-tamer-added/ | Moderate |\n",
    "| https://www.coffeereview.com/review/india-monsoon-malabar/ | Very Low |\n",
    "| https://www.coffeereview.com/review/indian-mysore-plantation/ | Low |\n",
    "| https://www.coffeereview.com/review/low-acid-arabica/ | Moderate |\n",
    "| https://www.coffeereview.com/review/sumatra-6/ | Very Low |\n",
    "| https://www.coffeereview.com/review/tamer-low-acid-coffee-beans-regular/ | Very Low |\n",
    "\n"
   ]
  },
  {
   "cell_type": "code",
   "execution_count": 139,
   "metadata": {},
   "outputs": [
    {
     "data": {
      "text/html": [
       "<div>\n",
       "<style scoped>\n",
       "    .dataframe tbody tr th:only-of-type {\n",
       "        vertical-align: middle;\n",
       "    }\n",
       "\n",
       "    .dataframe tbody tr th {\n",
       "        vertical-align: top;\n",
       "    }\n",
       "\n",
       "    .dataframe thead th {\n",
       "        text-align: right;\n",
       "    }\n",
       "</style>\n",
       "<table border=\"1\" class=\"dataframe\">\n",
       "  <thead>\n",
       "    <tr style=\"text-align: right;\">\n",
       "      <th></th>\n",
       "      <th>URL</th>\n",
       "      <th>all_text</th>\n",
       "      <th>Rating</th>\n",
       "      <th>Roaster</th>\n",
       "      <th>Coffee Name</th>\n",
       "      <th>Roaster Location</th>\n",
       "      <th>Coffee Origin</th>\n",
       "      <th>Roast Level</th>\n",
       "      <th>Agtron</th>\n",
       "      <th>Est. Price</th>\n",
       "      <th>...</th>\n",
       "      <th>Acidity</th>\n",
       "      <th>Acidity/Structure</th>\n",
       "      <th>Body</th>\n",
       "      <th>Flavor</th>\n",
       "      <th>Aftertaste</th>\n",
       "      <th>With Milk</th>\n",
       "      <th>Blind Assessment</th>\n",
       "      <th>Notes</th>\n",
       "      <th>Who Should Drink It</th>\n",
       "      <th>Bottom Line</th>\n",
       "    </tr>\n",
       "  </thead>\n",
       "  <tbody>\n",
       "  </tbody>\n",
       "</table>\n",
       "<p>0 rows × 22 columns</p>\n",
       "</div>"
      ],
      "text/plain": [
       "Empty DataFrame\n",
       "Columns: [URL, all_text, Rating, Roaster, Coffee Name, Roaster Location, Coffee Origin, Roast Level, Agtron, Est. Price, Review Date, Aroma, Acidity, Acidity/Structure, Body, Flavor, Aftertaste, With Milk, Blind Assessment, Notes, Who Should Drink It, Bottom Line]\n",
       "Index: []\n",
       "\n",
       "[0 rows x 22 columns]"
      ]
     },
     "execution_count": 139,
     "metadata": {},
     "output_type": "execute_result"
    }
   ],
   "source": [
    "# Check if there're conflicts like have values in both Flavor in milk and With Milk columns\n",
    "# No conflicts!\n",
    "result_df[(~result_df[\"Acidity\"].isnull()) & (~result_df[\"Acidity/Structure\"].isnull())] # Expected: 0 rows"
   ]
  },
  {
   "cell_type": "code",
   "execution_count": 126,
   "metadata": {},
   "outputs": [],
   "source": [
    "result_df[\"Combined_Acidity\"] = result_df[\"Acidity\"].fillna(result_df[\"Acidity/Structure\"])"
   ]
  },
  {
   "cell_type": "code",
   "execution_count": 132,
   "metadata": {},
   "outputs": [
    {
     "name": "stdout",
     "output_type": "stream",
     "text": [
      "34\n"
     ]
    }
   ],
   "source": [
    "parse_missing = result_df[result_df[\"Combined_Acidity\"].isnull()]\n",
    "raw_not_missing = parse_missing[parse_missing[\"all_text\"].str.contains(\"Acidity\")][\"URL\"]\n",
    "print(len(raw_not_missing))\n",
    "\n",
    "# for i, url in enumerate(raw_not_missing):\n",
    "#     print(i+1, end=\" \")\n",
    "#     print(url)"
   ]
  },
  {
   "cell_type": "markdown",
   "metadata": {},
   "source": [
    "# Save the correctly parsed dataframe"
   ]
  },
  {
   "cell_type": "markdown",
   "metadata": {},
   "source": [
    "## Handle before save: Merge Flavor in milk into With milk"
   ]
  },
  {
   "cell_type": "code",
   "execution_count": 146,
   "metadata": {},
   "outputs": [
    {
     "data": {
      "text/html": [
       "<div>\n",
       "<style scoped>\n",
       "    .dataframe tbody tr th:only-of-type {\n",
       "        vertical-align: middle;\n",
       "    }\n",
       "\n",
       "    .dataframe tbody tr th {\n",
       "        vertical-align: top;\n",
       "    }\n",
       "\n",
       "    .dataframe thead th {\n",
       "        text-align: right;\n",
       "    }\n",
       "</style>\n",
       "<table border=\"1\" class=\"dataframe\">\n",
       "  <thead>\n",
       "    <tr style=\"text-align: right;\">\n",
       "      <th></th>\n",
       "      <th>URL</th>\n",
       "      <th>all_text</th>\n",
       "      <th>Rating</th>\n",
       "      <th>Roaster</th>\n",
       "      <th>Coffee Name</th>\n",
       "      <th>Roaster Location</th>\n",
       "      <th>Coffee Origin</th>\n",
       "      <th>Roast Level</th>\n",
       "      <th>Agtron</th>\n",
       "      <th>Est. Price</th>\n",
       "      <th>...</th>\n",
       "      <th>Acidity/Structure</th>\n",
       "      <th>Body</th>\n",
       "      <th>Flavor</th>\n",
       "      <th>Aftertaste</th>\n",
       "      <th>With Milk</th>\n",
       "      <th>Flavor in milk</th>\n",
       "      <th>Blind Assessment</th>\n",
       "      <th>Notes</th>\n",
       "      <th>Who Should Drink It</th>\n",
       "      <th>Bottom Line</th>\n",
       "    </tr>\n",
       "  </thead>\n",
       "  <tbody>\n",
       "  </tbody>\n",
       "</table>\n",
       "<p>0 rows × 23 columns</p>\n",
       "</div>"
      ],
      "text/plain": [
       "Empty DataFrame\n",
       "Columns: [URL, all_text, Rating, Roaster, Coffee Name, Roaster Location, Coffee Origin, Roast Level, Agtron, Est. Price, Review Date, Aroma, Acidity, Acidity/Structure, Body, Flavor, Aftertaste, With Milk, Flavor in milk, Blind Assessment, Notes, Who Should Drink It, Bottom Line]\n",
       "Index: []\n",
       "\n",
       "[0 rows x 23 columns]"
      ]
     },
     "execution_count": 146,
     "metadata": {},
     "output_type": "execute_result"
    }
   ],
   "source": [
    "# Check if there're conflicts like have values in both Flavor in milk and With Milk columns\n",
    "# No conflicts!\n",
    "result_df[(~result_df[\"Flavor in milk\"].isnull()) & (~result_df[\"With Milk\"].isnull())] # Expected: 0 rows"
   ]
  },
  {
   "cell_type": "code",
   "execution_count": 147,
   "metadata": {},
   "outputs": [],
   "source": [
    "# Merge Flavor in milk into With milk\n",
    "result_df[\"With Milk\"] = result_df[\"With Milk\"].fillna(result_df[\"Flavor in milk\"])\n",
    "assert sum(result_df[\"With Milk\"].isnull()) == 7242\n",
    "\n",
    "result_df = result_df.drop(columns=['Flavor in milk'])"
   ]
  },
  {
   "cell_type": "code",
   "execution_count": 149,
   "metadata": {},
   "outputs": [
    {
     "data": {
      "text/html": [
       "<div>\n",
       "<style scoped>\n",
       "    .dataframe tbody tr th:only-of-type {\n",
       "        vertical-align: middle;\n",
       "    }\n",
       "\n",
       "    .dataframe tbody tr th {\n",
       "        vertical-align: top;\n",
       "    }\n",
       "\n",
       "    .dataframe thead th {\n",
       "        text-align: right;\n",
       "    }\n",
       "</style>\n",
       "<table border=\"1\" class=\"dataframe\">\n",
       "  <thead>\n",
       "    <tr style=\"text-align: right;\">\n",
       "      <th></th>\n",
       "      <th>Rating</th>\n",
       "      <th>Aroma</th>\n",
       "      <th>Acidity</th>\n",
       "      <th>Acidity/Structure</th>\n",
       "      <th>Body</th>\n",
       "      <th>Flavor</th>\n",
       "      <th>Aftertaste</th>\n",
       "      <th>With Milk</th>\n",
       "    </tr>\n",
       "  </thead>\n",
       "  <tbody>\n",
       "    <tr>\n",
       "      <th>count</th>\n",
       "      <td>8382.000000</td>\n",
       "      <td>8220.000000</td>\n",
       "      <td>3708.000000</td>\n",
       "      <td>3270.000000</td>\n",
       "      <td>8271.000000</td>\n",
       "      <td>8267.000000</td>\n",
       "      <td>7413.000000</td>\n",
       "      <td>1145.000000</td>\n",
       "    </tr>\n",
       "    <tr>\n",
       "      <th>mean</th>\n",
       "      <td>91.121928</td>\n",
       "      <td>8.425304</td>\n",
       "      <td>7.629450</td>\n",
       "      <td>8.504587</td>\n",
       "      <td>8.172410</td>\n",
       "      <td>8.520503</td>\n",
       "      <td>7.997842</td>\n",
       "      <td>8.491703</td>\n",
       "    </tr>\n",
       "    <tr>\n",
       "      <th>std</th>\n",
       "      <td>4.070747</td>\n",
       "      <td>0.883198</td>\n",
       "      <td>1.143691</td>\n",
       "      <td>0.617238</td>\n",
       "      <td>0.845941</td>\n",
       "      <td>0.959832</td>\n",
       "      <td>0.701548</td>\n",
       "      <td>0.772207</td>\n",
       "    </tr>\n",
       "    <tr>\n",
       "      <th>min</th>\n",
       "      <td>52.000000</td>\n",
       "      <td>2.000000</td>\n",
       "      <td>1.000000</td>\n",
       "      <td>1.000000</td>\n",
       "      <td>4.000000</td>\n",
       "      <td>1.000000</td>\n",
       "      <td>2.000000</td>\n",
       "      <td>5.000000</td>\n",
       "    </tr>\n",
       "    <tr>\n",
       "      <th>25%</th>\n",
       "      <td>90.000000</td>\n",
       "      <td>8.000000</td>\n",
       "      <td>7.000000</td>\n",
       "      <td>8.000000</td>\n",
       "      <td>8.000000</td>\n",
       "      <td>8.000000</td>\n",
       "      <td>8.000000</td>\n",
       "      <td>8.000000</td>\n",
       "    </tr>\n",
       "    <tr>\n",
       "      <th>50%</th>\n",
       "      <td>92.000000</td>\n",
       "      <td>9.000000</td>\n",
       "      <td>8.000000</td>\n",
       "      <td>9.000000</td>\n",
       "      <td>8.000000</td>\n",
       "      <td>9.000000</td>\n",
       "      <td>8.000000</td>\n",
       "      <td>9.000000</td>\n",
       "    </tr>\n",
       "    <tr>\n",
       "      <th>75%</th>\n",
       "      <td>94.000000</td>\n",
       "      <td>9.000000</td>\n",
       "      <td>8.000000</td>\n",
       "      <td>9.000000</td>\n",
       "      <td>9.000000</td>\n",
       "      <td>9.000000</td>\n",
       "      <td>8.000000</td>\n",
       "      <td>9.000000</td>\n",
       "    </tr>\n",
       "    <tr>\n",
       "      <th>max</th>\n",
       "      <td>98.000000</td>\n",
       "      <td>10.000000</td>\n",
       "      <td>10.000000</td>\n",
       "      <td>10.000000</td>\n",
       "      <td>10.000000</td>\n",
       "      <td>10.000000</td>\n",
       "      <td>10.000000</td>\n",
       "      <td>10.000000</td>\n",
       "    </tr>\n",
       "  </tbody>\n",
       "</table>\n",
       "</div>"
      ],
      "text/plain": [
       "            Rating        Aroma      Acidity  Acidity/Structure         Body  \\\n",
       "count  8382.000000  8220.000000  3708.000000        3270.000000  8271.000000   \n",
       "mean     91.121928     8.425304     7.629450           8.504587     8.172410   \n",
       "std       4.070747     0.883198     1.143691           0.617238     0.845941   \n",
       "min      52.000000     2.000000     1.000000           1.000000     4.000000   \n",
       "25%      90.000000     8.000000     7.000000           8.000000     8.000000   \n",
       "50%      92.000000     9.000000     8.000000           9.000000     8.000000   \n",
       "75%      94.000000     9.000000     8.000000           9.000000     9.000000   \n",
       "max      98.000000    10.000000    10.000000          10.000000    10.000000   \n",
       "\n",
       "            Flavor   Aftertaste    With Milk  \n",
       "count  8267.000000  7413.000000  1145.000000  \n",
       "mean      8.520503     7.997842     8.491703  \n",
       "std       0.959832     0.701548     0.772207  \n",
       "min       1.000000     2.000000     5.000000  \n",
       "25%       8.000000     8.000000     8.000000  \n",
       "50%       9.000000     8.000000     9.000000  \n",
       "75%       9.000000     8.000000     9.000000  \n",
       "max      10.000000    10.000000    10.000000  "
      ]
     },
     "execution_count": 149,
     "metadata": {},
     "output_type": "execute_result"
    }
   ],
   "source": [
    "result_df.describe()"
   ]
  },
  {
   "cell_type": "code",
   "execution_count": 150,
   "metadata": {},
   "outputs": [
    {
     "data": {
      "text/plain": [
       "URL                       0\n",
       "all_text                  0\n",
       "Rating                    5\n",
       "Roaster                   5\n",
       "Coffee Name               5\n",
       "Roaster Location        104\n",
       "Coffee Origin           572\n",
       "Roast Level             103\n",
       "Agtron                  103\n",
       "Est. Price             2015\n",
       "Review Date               0\n",
       "Aroma                   167\n",
       "Acidity                4679\n",
       "Acidity/Structure      5117\n",
       "Body                    116\n",
       "Flavor                  120\n",
       "Aftertaste              974\n",
       "With Milk              7242\n",
       "Blind Assessment          0\n",
       "Notes                     0\n",
       "Who Should Drink It    4360\n",
       "Bottom Line            4181\n",
       "dtype: int64"
      ]
     },
     "execution_count": 150,
     "metadata": {},
     "output_type": "execute_result"
    }
   ],
   "source": [
    "result_df.isnull().sum()"
   ]
  },
  {
   "cell_type": "code",
   "execution_count": 148,
   "metadata": {},
   "outputs": [],
   "source": [
    "result_df.to_csv(\"coffee_reviews_parsed.csv\", index=False)"
   ]
  }
 ],
 "metadata": {
  "kernelspec": {
   "display_name": "myenv",
   "language": "python",
   "name": "python3"
  },
  "language_info": {
   "codemirror_mode": {
    "name": "ipython",
    "version": 3
   },
   "file_extension": ".py",
   "mimetype": "text/x-python",
   "name": "python",
   "nbconvert_exporter": "python",
   "pygments_lexer": "ipython3",
   "version": "3.9.19"
  }
 },
 "nbformat": 4,
 "nbformat_minor": 2
}
