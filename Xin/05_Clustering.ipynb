{
 "cells": [
  {
   "cell_type": "markdown",
   "id": "950965b1",
   "metadata": {},
   "source": [
    "This is a notebook used to perfrom some exploratory data analysis on the processed dataset."
   ]
  },
  {
   "cell_type": "markdown",
   "id": "069e2823",
   "metadata": {},
   "source": [
    "# Load dependencies"
   ]
  },
  {
   "cell_type": "code",
   "execution_count": 2,
   "id": "5b7bcd67",
   "metadata": {},
   "outputs": [],
   "source": [
    "import pandas as pd\n",
    "import numpy as np\n",
    "import seaborn as sns\n",
    "import matplotlib.pyplot as plt\n"
   ]
  },
  {
   "cell_type": "markdown",
   "id": "acf82024",
   "metadata": {},
   "source": [
    "# Load data"
   ]
  },
  {
   "cell_type": "code",
   "execution_count": 47,
   "id": "64f75ae5",
   "metadata": {},
   "outputs": [],
   "source": [
    "data = pd.read_csv(\"../data/coffee_review_processed_01.csv\") # pd.read_csv(\"../data/coffee_test.csv\")\n",
    "df0 = pd.read_csv(\"../data/coffee_ultimato.csv\")"
   ]
  },
  {
   "cell_type": "code",
   "execution_count": 55,
   "id": "f52134c3",
   "metadata": {},
   "outputs": [
    {
     "data": {
      "text/plain": [
       "8387"
      ]
     },
     "execution_count": 55,
     "metadata": {},
     "output_type": "execute_result"
    }
   ],
   "source": [
    "# Check the difference in each row of the URL column\n",
    "sum(data[\"URL\"] == df0[\"URL\"])"
   ]
  },
  {
   "cell_type": "code",
   "execution_count": 41,
   "id": "6f0a97c2",
   "metadata": {},
   "outputs": [
    {
     "name": "stdout",
     "output_type": "stream",
     "text": [
      "Deleted columns: {'Review Date', 'all_text', 'Est. Price', 'Roast Level', 'Agtron'}\n",
      "Added columns: {'coffee_name_hundredpercent', 'review_date_adj', 'coffee_origin_adj', 'roast_lv_adj'}\n"
     ]
    }
   ],
   "source": [
    "# Compare columns in coffee_review_processed_01 and coffee_ultimato\n",
    "set1 = set(data.columns)\n",
    "set2 = set(df0.columns)\n",
    "print(\"Deleted columns:\", set1 - set2)\n",
    "print(\"Added columns:\", set2 - set1)"
   ]
  },
  {
   "cell_type": "code",
   "execution_count": 56,
   "id": "3491cf20",
   "metadata": {},
   "outputs": [],
   "source": [
    "roast_levels = [\"light\", \"medium-light\", \"medium\", \"medium-dark\", \"dark\", \"very dark\"]\n",
    "level_label_map = dict(zip(roast_levels, list(range(1, 7))))\n",
    "label_level_map = dict(zip(list(range(1, 7)), roast_levels))"
   ]
  },
  {
   "cell_type": "code",
   "execution_count": 43,
   "id": "457932b2",
   "metadata": {},
   "outputs": [
    {
     "data": {
      "text/plain": [
       "Index(['URL', 'Rating', 'Roaster', 'Coffee Name', 'Roaster Location',\n",
       "       'Coffee Origin', 'Aroma', 'Acidity', 'Acidity/Structure', 'Body',\n",
       "       'Flavor', 'Aftertaste', 'With Milk', 'Blind Assessment', 'Notes',\n",
       "       'Who Should Drink It', 'Bottom Line', 'Agtron_whole', 'Agtron_ground',\n",
       "       'Roaster Latitude', 'Roaster Longitude', 'usd_per_100g_adj',\n",
       "       'coffee_origin_adj', 'roast_lv_adj', 'coffee_name_hundredpercent',\n",
       "       'review_date_adj'],\n",
       "      dtype='object')"
      ]
     },
     "execution_count": 43,
     "metadata": {},
     "output_type": "execute_result"
    }
   ],
   "source": [
    "df0.columns"
   ]
  },
  {
   "cell_type": "markdown",
   "id": "4908a87d",
   "metadata": {},
   "source": [
    "# Check Agtron"
   ]
  },
  {
   "cell_type": "code",
   "execution_count": 37,
   "id": "ab8046bf",
   "metadata": {},
   "outputs": [
    {
     "data": {
      "text/html": [
       "<div>\n",
       "<style scoped>\n",
       "    .dataframe tbody tr th:only-of-type {\n",
       "        vertical-align: middle;\n",
       "    }\n",
       "\n",
       "    .dataframe tbody tr th {\n",
       "        vertical-align: top;\n",
       "    }\n",
       "\n",
       "    .dataframe thead th {\n",
       "        text-align: right;\n",
       "    }\n",
       "</style>\n",
       "<table border=\"1\" class=\"dataframe\">\n",
       "  <thead>\n",
       "    <tr style=\"text-align: right;\">\n",
       "      <th></th>\n",
       "      <th>URL</th>\n",
       "      <th>Rating</th>\n",
       "      <th>Roaster</th>\n",
       "      <th>Coffee Name</th>\n",
       "      <th>Roaster Location</th>\n",
       "      <th>Coffee Origin</th>\n",
       "      <th>Aroma</th>\n",
       "      <th>Acidity</th>\n",
       "      <th>Acidity/Structure</th>\n",
       "      <th>Body</th>\n",
       "      <th>...</th>\n",
       "      <th>Bottom Line</th>\n",
       "      <th>Agtron_whole</th>\n",
       "      <th>Agtron_ground</th>\n",
       "      <th>Roaster Latitude</th>\n",
       "      <th>Roaster Longitude</th>\n",
       "      <th>usd_per_100g_adj</th>\n",
       "      <th>coffee_origin_adj</th>\n",
       "      <th>roast_lv_adj</th>\n",
       "      <th>coffee_name_hundredpercent</th>\n",
       "      <th>review_date_adj</th>\n",
       "    </tr>\n",
       "  </thead>\n",
       "  <tbody>\n",
       "    <tr>\n",
       "      <th>2050</th>\n",
       "      <td>https://www.coffeereview.com/review/ecuador-la...</td>\n",
       "      <td>93.0</td>\n",
       "      <td>Paradise Roasters</td>\n",
       "      <td>Ecuador La Hormiga “Naty”</td>\n",
       "      <td>Minneapolis, Minnesota</td>\n",
       "      <td>Chito, Zamora Chinchipe, Ecuador</td>\n",
       "      <td>9.0</td>\n",
       "      <td>NaN</td>\n",
       "      <td>8.0</td>\n",
       "      <td>9.0</td>\n",
       "      <td>...</td>\n",
       "      <td>An unassuming, quietly complex natural-process...</td>\n",
       "      <td>547.0</td>\n",
       "      <td>74.0</td>\n",
       "      <td>44.977753</td>\n",
       "      <td>-93.265011</td>\n",
       "      <td>7.826531</td>\n",
       "      <td>ecuador</td>\n",
       "      <td>1.0</td>\n",
       "      <td>False</td>\n",
       "      <td>2021-02-01</td>\n",
       "    </tr>\n",
       "    <tr>\n",
       "      <th>5780</th>\n",
       "      <td>https://www.coffeereview.com/review/look-for-t...</td>\n",
       "      <td>91.0</td>\n",
       "      <td>Tony's Coffee</td>\n",
       "      <td>Look for the Helpers</td>\n",
       "      <td>Bellingham, Washington</td>\n",
       "      <td>Ethiopia; Central America</td>\n",
       "      <td>8.0</td>\n",
       "      <td>NaN</td>\n",
       "      <td>8.0</td>\n",
       "      <td>9.0</td>\n",
       "      <td>...</td>\n",
       "      <td>100% of the profits from the sale of this coff...</td>\n",
       "      <td>5252.0</td>\n",
       "      <td>70.0</td>\n",
       "      <td>48.782519</td>\n",
       "      <td>-122.449792</td>\n",
       "      <td>4.433329</td>\n",
       "      <td>ethiopia</td>\n",
       "      <td>1.0</td>\n",
       "      <td>False</td>\n",
       "      <td>2021-03-01</td>\n",
       "    </tr>\n",
       "    <tr>\n",
       "      <th>7748</th>\n",
       "      <td>https://www.coffeereview.com/review/sumatra-mu...</td>\n",
       "      <td>93.0</td>\n",
       "      <td>Jackrabbit Java</td>\n",
       "      <td>Sumatra Mutu Batak</td>\n",
       "      <td>Thermopolis, Wyoming</td>\n",
       "      <td>Lintong growing region, North Sumatra Province...</td>\n",
       "      <td>9.0</td>\n",
       "      <td>NaN</td>\n",
       "      <td>8.0</td>\n",
       "      <td>9.0</td>\n",
       "      <td>...</td>\n",
       "      <td>A classic Sumatra cup: earthy-rich, deeply cho...</td>\n",
       "      <td>555.0</td>\n",
       "      <td>73.0</td>\n",
       "      <td>43.646379</td>\n",
       "      <td>-108.211045</td>\n",
       "      <td>4.999420</td>\n",
       "      <td>indonesia</td>\n",
       "      <td>1.0</td>\n",
       "      <td>False</td>\n",
       "      <td>2020-12-01</td>\n",
       "    </tr>\n",
       "    <tr>\n",
       "      <th>8115</th>\n",
       "      <td>https://www.coffeereview.com/review/uganda-sir...</td>\n",
       "      <td>92.0</td>\n",
       "      <td>Coffee By Design</td>\n",
       "      <td>Uganda Sironko Station Natural</td>\n",
       "      <td>Portland, Maine</td>\n",
       "      <td>Bugisu Region, Uganda</td>\n",
       "      <td>9.0</td>\n",
       "      <td>NaN</td>\n",
       "      <td>8.0</td>\n",
       "      <td>8.0</td>\n",
       "      <td>...</td>\n",
       "      <td>An interestingly composed Uganda natural with ...</td>\n",
       "      <td>578.0</td>\n",
       "      <td>80.0</td>\n",
       "      <td>43.666110</td>\n",
       "      <td>-70.256554</td>\n",
       "      <td>4.629711</td>\n",
       "      <td>uganda</td>\n",
       "      <td>1.0</td>\n",
       "      <td>False</td>\n",
       "      <td>2024-12-01</td>\n",
       "    </tr>\n",
       "  </tbody>\n",
       "</table>\n",
       "<p>4 rows × 26 columns</p>\n",
       "</div>"
      ],
      "text/plain": [
       "                                                    URL  Rating  \\\n",
       "2050  https://www.coffeereview.com/review/ecuador-la...    93.0   \n",
       "5780  https://www.coffeereview.com/review/look-for-t...    91.0   \n",
       "7748  https://www.coffeereview.com/review/sumatra-mu...    93.0   \n",
       "8115  https://www.coffeereview.com/review/uganda-sir...    92.0   \n",
       "\n",
       "                Roaster                     Coffee Name  \\\n",
       "2050  Paradise Roasters       Ecuador La Hormiga “Naty”   \n",
       "5780      Tony's Coffee            Look for the Helpers   \n",
       "7748    Jackrabbit Java              Sumatra Mutu Batak   \n",
       "8115   Coffee By Design  Uganda Sironko Station Natural   \n",
       "\n",
       "            Roaster Location  \\\n",
       "2050  Minneapolis, Minnesota   \n",
       "5780  Bellingham, Washington   \n",
       "7748    Thermopolis, Wyoming   \n",
       "8115         Portland, Maine   \n",
       "\n",
       "                                          Coffee Origin  Aroma  Acidity  \\\n",
       "2050                   Chito, Zamora Chinchipe, Ecuador    9.0      NaN   \n",
       "5780                          Ethiopia; Central America    8.0      NaN   \n",
       "7748  Lintong growing region, North Sumatra Province...    9.0      NaN   \n",
       "8115                              Bugisu Region, Uganda    9.0      NaN   \n",
       "\n",
       "      Acidity/Structure  Body  ...  \\\n",
       "2050                8.0   9.0  ...   \n",
       "5780                8.0   9.0  ...   \n",
       "7748                8.0   9.0  ...   \n",
       "8115                8.0   8.0  ...   \n",
       "\n",
       "                                            Bottom Line  Agtron_whole  \\\n",
       "2050  An unassuming, quietly complex natural-process...         547.0   \n",
       "5780  100% of the profits from the sale of this coff...        5252.0   \n",
       "7748  A classic Sumatra cup: earthy-rich, deeply cho...         555.0   \n",
       "8115  An interestingly composed Uganda natural with ...         578.0   \n",
       "\n",
       "      Agtron_ground Roaster Latitude Roaster Longitude usd_per_100g_adj  \\\n",
       "2050           74.0        44.977753        -93.265011         7.826531   \n",
       "5780           70.0        48.782519       -122.449792         4.433329   \n",
       "7748           73.0        43.646379       -108.211045         4.999420   \n",
       "8115           80.0        43.666110        -70.256554         4.629711   \n",
       "\n",
       "     coffee_origin_adj  roast_lv_adj  coffee_name_hundredpercent  \\\n",
       "2050           ecuador           1.0                       False   \n",
       "5780          ethiopia           1.0                       False   \n",
       "7748         indonesia           1.0                       False   \n",
       "8115            uganda           1.0                       False   \n",
       "\n",
       "      review_date_adj  \n",
       "2050       2021-02-01  \n",
       "5780       2021-03-01  \n",
       "7748       2020-12-01  \n",
       "8115       2024-12-01  \n",
       "\n",
       "[4 rows x 26 columns]"
      ]
     },
     "execution_count": 37,
     "metadata": {},
     "output_type": "execute_result"
    }
   ],
   "source": [
    "df0[df0[\"Agtron_whole\"] > 100] #.loc[2050, \"URL\"] # 2050: 54, 5780:52, 7748:55 , 8115: 57"
   ]
  },
  {
   "cell_type": "code",
   "execution_count": null,
   "id": "5274ceda",
   "metadata": {},
   "outputs": [
    {
     "data": {
      "text/html": [
       "<div>\n",
       "<style scoped>\n",
       "    .dataframe tbody tr th:only-of-type {\n",
       "        vertical-align: middle;\n",
       "    }\n",
       "\n",
       "    .dataframe tbody tr th {\n",
       "        vertical-align: top;\n",
       "    }\n",
       "\n",
       "    .dataframe thead th {\n",
       "        text-align: right;\n",
       "    }\n",
       "</style>\n",
       "<table border=\"1\" class=\"dataframe\">\n",
       "  <thead>\n",
       "    <tr style=\"text-align: right;\">\n",
       "      <th></th>\n",
       "      <th>URL</th>\n",
       "      <th>Rating</th>\n",
       "      <th>Roaster</th>\n",
       "      <th>Coffee Name</th>\n",
       "      <th>Roaster Location</th>\n",
       "      <th>Coffee Origin</th>\n",
       "      <th>Aroma</th>\n",
       "      <th>Acidity</th>\n",
       "      <th>Acidity/Structure</th>\n",
       "      <th>Body</th>\n",
       "      <th>...</th>\n",
       "      <th>Bottom Line</th>\n",
       "      <th>Agtron_whole</th>\n",
       "      <th>Agtron_ground</th>\n",
       "      <th>Roaster Latitude</th>\n",
       "      <th>Roaster Longitude</th>\n",
       "      <th>usd_per_100g_adj</th>\n",
       "      <th>coffee_origin_adj</th>\n",
       "      <th>roast_lv_adj</th>\n",
       "      <th>coffee_name_hundredpercent</th>\n",
       "      <th>review_date_adj</th>\n",
       "    </tr>\n",
       "  </thead>\n",
       "  <tbody>\n",
       "  </tbody>\n",
       "</table>\n",
       "<p>0 rows × 26 columns</p>\n",
       "</div>"
      ],
      "text/plain": [
       "Empty DataFrame\n",
       "Columns: [URL, Rating, Roaster, Coffee Name, Roaster Location, Coffee Origin, Aroma, Acidity, Acidity/Structure, Body, Flavor, Aftertaste, With Milk, Blind Assessment, Notes, Who Should Drink It, Bottom Line, Agtron_whole, Agtron_ground, Roaster Latitude, Roaster Longitude, usd_per_100g_adj, coffee_origin_adj, roast_lv_adj, coffee_name_hundredpercent, review_date_adj]\n",
       "Index: []\n",
       "\n",
       "[0 rows x 26 columns]"
      ]
     },
     "execution_count": 38,
     "metadata": {},
     "output_type": "execute_result"
    }
   ],
   "source": [
    "# agtron_whole_indices = [2050, 5780, 7748, 8115]\n",
    "# df0.loc[2050, 'Agtron_whole'] = 54\n",
    "# df0.loc[5780, 'Agtron_whole'] = 52\n",
    "# df0.loc[7748, 'Agtron_whole'] = 55\n",
    "# df0.loc[8115, 'Agtron_whole'] = 57\n",
    "\n",
    "# df0[df0[\"Agtron_whole\"] > 100] "
   ]
  },
  {
   "cell_type": "code",
   "execution_count": null,
   "id": "29a304ff",
   "metadata": {},
   "outputs": [
    {
     "data": {
      "text/html": [
       "<div>\n",
       "<style scoped>\n",
       "    .dataframe tbody tr th:only-of-type {\n",
       "        vertical-align: middle;\n",
       "    }\n",
       "\n",
       "    .dataframe tbody tr th {\n",
       "        vertical-align: top;\n",
       "    }\n",
       "\n",
       "    .dataframe thead th {\n",
       "        text-align: right;\n",
       "    }\n",
       "</style>\n",
       "<table border=\"1\" class=\"dataframe\">\n",
       "  <thead>\n",
       "    <tr style=\"text-align: right;\">\n",
       "      <th></th>\n",
       "      <th>URL</th>\n",
       "      <th>Rating</th>\n",
       "      <th>Roaster</th>\n",
       "      <th>Coffee Name</th>\n",
       "      <th>Roaster Location</th>\n",
       "      <th>Coffee Origin</th>\n",
       "      <th>Aroma</th>\n",
       "      <th>Acidity</th>\n",
       "      <th>Acidity/Structure</th>\n",
       "      <th>Body</th>\n",
       "      <th>...</th>\n",
       "      <th>Bottom Line</th>\n",
       "      <th>Agtron_whole</th>\n",
       "      <th>Agtron_ground</th>\n",
       "      <th>Roaster Latitude</th>\n",
       "      <th>Roaster Longitude</th>\n",
       "      <th>usd_per_100g_adj</th>\n",
       "      <th>coffee_origin_adj</th>\n",
       "      <th>roast_lv_adj</th>\n",
       "      <th>coffee_name_hundredpercent</th>\n",
       "      <th>review_date_adj</th>\n",
       "    </tr>\n",
       "  </thead>\n",
       "  <tbody>\n",
       "  </tbody>\n",
       "</table>\n",
       "<p>0 rows × 26 columns</p>\n",
       "</div>"
      ],
      "text/plain": [
       "Empty DataFrame\n",
       "Columns: [URL, Rating, Roaster, Coffee Name, Roaster Location, Coffee Origin, Aroma, Acidity, Acidity/Structure, Body, Flavor, Aftertaste, With Milk, Blind Assessment, Notes, Who Should Drink It, Bottom Line, Agtron_whole, Agtron_ground, Roaster Latitude, Roaster Longitude, usd_per_100g_adj, coffee_origin_adj, roast_lv_adj, coffee_name_hundredpercent, review_date_adj]\n",
       "Index: []\n",
       "\n",
       "[0 rows x 26 columns]"
      ]
     },
     "execution_count": 49,
     "metadata": {},
     "output_type": "execute_result"
    }
   ],
   "source": [
    "df0[df0[\"Agtron_ground\"] > 100]\n",
    "# df0[df0[\"Agtron_whole\"] == 48]\n",
    "# df0.loc[7309, 'Agtron_ground'] = 68"
   ]
  },
  {
   "cell_type": "code",
   "execution_count": null,
   "id": "8e9acd5f",
   "metadata": {},
   "outputs": [],
   "source": [
    "# df0.to_csv(\"../data/coffee_ultimato.csv\", index=False)"
   ]
  },
  {
   "cell_type": "markdown",
   "id": "ef113258",
   "metadata": {},
   "source": [
    "# Data preprocessig for clustering"
   ]
  },
  {
   "cell_type": "code",
   "execution_count": 62,
   "id": "31338b66",
   "metadata": {},
   "outputs": [],
   "source": [
    "coffee_characteristics = [\"Coffee Origin\", \"coffee_origin_adj\", \n",
    "                          \"roast_lv_adj\", \n",
    "                          \"Agtron_whole\", \"Agtron_ground\",\n",
    "                          \"Aroma\",\n",
    "                          \"Acidity\",\n",
    "                          \"Acidity/Structure\",\n",
    "                          \"Body\",\n",
    "                          \"Flavor\",\n",
    "                          \"Aftertaste\",\n",
    "                          \"With Milk\",\n",
    "                          \"Roaster Latitude\", \"Roaster Longitude\",\n",
    "                          \"review_date_adj\"]\n",
    "\n",
    "targets = [\"Rating\", \"usd_per_100g_adj\"]\n",
    "df = df0[[\"URL\"] + coffee_characteristics + targets].copy()"
   ]
  },
  {
   "cell_type": "code",
   "execution_count": 58,
   "id": "3a1ac457",
   "metadata": {},
   "outputs": [],
   "source": [
    "# # Count missing values in each column\n",
    "# missing_values = df.isnull().sum()\n",
    "\n",
    "# # Calculate missing rate (missing values / total rows)\n",
    "# missing_rate = round(missing_values * 100 / len(df), 2)\n",
    "\n",
    "# print(\"Missing values per column:\")\n",
    "# print(missing_values)\n",
    "# print(\"\\nMissing rate per column:\")\n",
    "# print(missing_rate)"
   ]
  },
  {
   "cell_type": "code",
   "execution_count": 63,
   "id": "79bf5917",
   "metadata": {},
   "outputs": [
    {
     "name": "stdout",
     "output_type": "stream",
     "text": [
      "0\n"
     ]
    },
    {
     "data": {
      "text/plain": [
       "1409"
      ]
     },
     "execution_count": 63,
     "metadata": {},
     "output_type": "execute_result"
    }
   ],
   "source": [
    "# Check Acidity and Acidity/Structure - Are they consistent?\n",
    "print(len(df[(~df[\"Acidity\"].isnull()) & (~df[\"Acidity/Structure\"].isnull())]))\n",
    "\n",
    "# Combine the 2 columns - Fill \"Acidity\" using \"Acidity/Structure\"\n",
    "df['Acidity_combined'] = df.apply(\n",
    "    lambda row: row['Acidity/Structure'] if pd.isna(row['Acidity']) else row['Acidity'],\n",
    "    axis=1)\n",
    "\n",
    "# Check NaN in the new Acidity column\n",
    "sum(df[\"Acidity_combined\"].isnull())"
   ]
  },
  {
   "cell_type": "code",
   "execution_count": 80,
   "id": "9ceb58d5",
   "metadata": {},
   "outputs": [],
   "source": [
    "features = [\"roast_lv_adj\", \n",
    "            \"Agtron_whole\", \"Agtron_ground\",\n",
    "            \"Aroma\",\n",
    "            \"Acidity_combined\",\n",
    "            \"Body\",\n",
    "            \"Flavor\",\n",
    "            \"Aftertaste\"] # \"Roaster Latitude\", \"Roaster Longitude\", \"review_date_adj\", \"With Milk\", \"Coffee Origin\", \"coffee_origin_adj\"\n",
    "train_df = df[[\"URL\"] + features].copy()"
   ]
  },
  {
   "cell_type": "code",
   "execution_count": 81,
   "id": "58c1a577",
   "metadata": {},
   "outputs": [
    {
     "data": {
      "image/png": "[encoded data removed]",
      "text/plain": [
       "<Figure size 1000x800 with 2 Axes>"
      ]
     },
     "metadata": {},
     "output_type": "display_data"
    }
   ],
   "source": [
    "corr_matrix = train_df[features].corr()\n",
    "plt.figure(figsize=(10, 8))\n",
    "sns.heatmap(corr_matrix, annot=True, cmap='coolwarm', fmt='.2f', linewidths=0.5)\n",
    "plt.title('Correlation Heatmap of Coffee Characteristics')\n",
    "plt.show()"
   ]
  },
  {
   "cell_type": "code",
   "execution_count": 72,
   "id": "3429f04d",
   "metadata": {},
   "outputs": [
    {
     "data": {
      "text/plain": [
       "roast_lv_adj         506\n",
       "Agtron_whole         415\n",
       "Agtron_ground        406\n",
       "Aroma                167\n",
       "Acidity_combined    1409\n",
       "Body                 116\n",
       "Flavor               120\n",
       "Aftertaste           974\n",
       "dtype: int64"
      ]
     },
     "execution_count": 72,
     "metadata": {},
     "output_type": "execute_result"
    }
   ],
   "source": [
    "train_df.isnull().sum()"
   ]
  },
  {
   "cell_type": "code",
   "execution_count": 82,
   "id": "fb002541",
   "metadata": {},
   "outputs": [],
   "source": [
    "train_df.to_csv(\"clustering_train.csv\", index=False)"
   ]
  },
  {
   "cell_type": "code",
   "execution_count": 34,
   "id": "0523297b",
   "metadata": {},
   "outputs": [],
   "source": [
    "# plt.figure(figsize=(10, 6))\n",
    "# train_df[\"Body\"].plot(kind=\"hist\") # sns.histplot(train_df['Body'], kde=False, bins=10, color='blue')  # Use KDE=False to avoid a density curve\n",
    "# plt.title('Distribution of Coffee Body')\n",
    "# plt.xlabel('Body')\n",
    "# plt.ylabel('Frequency')\n",
    "# plt.show()"
   ]
  },
  {
   "cell_type": "code",
   "execution_count": null,
   "id": "956bbb51",
   "metadata": {},
   "outputs": [],
   "source": []
  }
 ],
 "metadata": {
  "kernelspec": {
   "display_name": "myenv",
   "language": "python",
   "name": "python3"
  },
  "language_info": {
   "codemirror_mode": {
    "name": "ipython",
    "version": 3
   },
   "file_extension": ".py",
   "mimetype": "text/x-python",
   "name": "python",
   "nbconvert_exporter": "python",
   "pygments_lexer": "ipython3",
   "version": "3.9.19"
  }
 },
 "nbformat": 4,
 "nbformat_minor": 5
}
